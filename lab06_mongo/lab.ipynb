{
 "cells": [
  {
   "cell_type": "code",
   "execution_count": null,
   "id": "262a2373",
   "metadata": {},
   "outputs": [],
   "source": [
    "# Install required packages\n",
    "!pip install notebook mongomock pymongo"
   ]
  },
  {
   "cell_type": "code",
   "execution_count": null,
   "id": "1b150782",
   "metadata": {},
   "outputs": [],
   "source": [
    "from mongomock import MongoClient\n",
    "\n",
    "# Create an in-memory MongoDB client using mongomock\n",
    "client = MongoClient()\n",
    "db = client['lab_db']"
   ]
  },
  {
   "cell_type": "markdown",
   "id": "6122b596",
   "metadata": {},
   "source": [
    "# MongoDB Lab - Basic CRUD Operations\n",
    "\n",
    "This lab covers basic CRUD (Create, Read, Update, Delete) operations and intermediate query/update operators using MongoDB with mongomock for in-memory database operations.\n",
    "\n",
    "The [MongoDB documentation on CRUD operations](https://www.mongodb.com/docs/mongodb-shell/crud/) will be useful! \n"
   ]
  },
  {
   "cell_type": "markdown",
   "id": "66135a46",
   "metadata": {},
   "source": [
    "## Create\n",
    "\n",
    "**Q1.1** Insert the `user1` document into the `users` collection. "
   ]
  },
  {
   "cell_type": "code",
   "execution_count": null,
   "id": "cc35ec66",
   "metadata": {},
   "outputs": [],
   "source": [
    "# Empty collection (don't delete this line!)\n",
    "db.users.drop()\n",
    "\n",
    "user1 = {\n",
    "    \"name\": \"Alice\",\n",
    "    \"email\": \"alice@example.com\",\n",
    "    \"age\": 25,\n",
    "    \"skills\": [\"Python\", \"JavaScript\"],\n",
    "}\n",
    "\n",
    "result = ...\n",
    "\n",
    "if result.acknowledged and db.users.count_documents({}) == 1:\n",
    "    print(\"Passed!\")\n",
    "else:\n",
    "    print(\"Failed!\")"
   ]
  },
  {
   "cell_type": "markdown",
   "id": "aa379e15",
   "metadata": {},
   "source": [
    "**Q1.2** Insert all the user documents in the `usersToInsert` list into the `user` collection using **one** MongoDB operation. \n",
    "\n",
    "*Hint*: You should read the [MongoDB CRUD operations docs](https://www.mongodb.com/docs/mongodb-shell/crud/) to find the correct operation."
   ]
  },
  {
   "cell_type": "code",
   "execution_count": null,
   "id": "1ffd20ba",
   "metadata": {},
   "outputs": [],
   "source": [
    "# Empty collection (don't delete this line!)\n",
    "db.users.drop()\n",
    "\n",
    "users = [\n",
    "    {\n",
    "        \"name\": \"Alice\",\n",
    "        \"email\": \"alice@example.com\",\n",
    "        \"age\": 25,\n",
    "        \"skills\": [\"Python\", \"JavaScript\"]\n",
    "    },\n",
    "    {\n",
    "        \"name\": \"Bob\",\n",
    "        \"email\": \"bob@example.com\",\n",
    "        \"age\": 30,\n",
    "        \"skills\": [\"Python\", \"MongoDB\"]\n",
    "    },\n",
    "    {\n",
    "        \"name\": \"Charlie\",\n",
    "        \"email\": \"charlie@example.com\",\n",
    "        \"age\": 35,\n",
    "        \"skills\": [\"Python\", \"MongoDB\", \"Express\"]\n",
    "    }\n",
    "]\n",
    "\n",
    "result = ...\n",
    "\n",
    "if result.acknowledged and db.users.count_documents({}) == len(users):\n",
    "    print(\"Passed!\")\n",
    "else:\n",
    "    print(\"Failed!\")\n"
   ]
  },
  {
   "cell_type": "markdown",
   "id": "e6b16d05",
   "metadata": {},
   "source": [
    "## Read"
   ]
  },
  {
   "cell_type": "markdown",
   "id": "3d6d5880",
   "metadata": {},
   "source": [
    "**Q2.1** Query the database for one document with name `\"Alice\"`. "
   ]
  },
  {
   "cell_type": "code",
   "execution_count": null,
   "id": "95d0e8bd",
   "metadata": {},
   "outputs": [],
   "source": [
    "user = ...\n",
    "\n",
    "if user and user['name'] == \"Alice\":\n",
    "    print(\"Passed!\")\n",
    "else:\n",
    "    print(\"Failed!\")"
   ]
  },
  {
   "cell_type": "markdown",
   "id": "49f2ff40",
   "metadata": {},
   "source": [
    "**Q2.2** Set `user_with_age_25` to one user document with age equal to 25. \n",
    "\n",
    "Next, set `users_with_python_skill` to all the user documents with `Python` in their skills. \n",
    "\n",
    "Finally, set `users_older_than_26` to all user documents with age greater than 26. \n",
    "\n",
    "*Hint*: You might find the [MongoDB docs on Query Operators/Predicates](https://www.mongodb.com/docs/manual/reference/mql/query-predicates/) to be helpful!"
   ]
  },
  {
   "cell_type": "code",
   "execution_count": null,
   "id": "4e4d601f",
   "metadata": {},
   "outputs": [],
   "source": [
    "if db.users.count_documents({}) != 3:\n",
    "    print(\"Please run the `Insert Multiple Documents` section first!\")\n",
    "\n",
    "user_with_age_25 = ...\n",
    "users_with_python_skill = ...\n",
    "users_older_than_26 = ...\n",
    "\n",
    "if user_with_age_25 and user_with_age_25['age'] == 25 and \\\n",
    "   users_with_python_skill and len(list(users_with_python_skill)) == 3 and \\\n",
    "   users_older_than_26 and len(list(users_older_than_26)) == 2:\n",
    "    print(\"Passed!\")\n",
    "else:\n",
    "    print(\"Failed!\")"
   ]
  },
  {
   "cell_type": "markdown",
   "id": "2f94de63",
   "metadata": {},
   "source": [
    "Let's use some more complex query operators. \n",
    "\n",
    "First, run the below code to repopulate the database with some new user documents. "
   ]
  },
  {
   "cell_type": "code",
   "execution_count": null,
   "id": "0dce83ce",
   "metadata": {},
   "outputs": [],
   "source": [
    "# Don't modify this cell!\n",
    "db.users.drop()\n",
    "users = [\n",
    "    {\n",
    "        \"name\": \"Alice\",\n",
    "        \"email\": \"alice@example.com\",\n",
    "        \"age\": 25,\n",
    "        \"skills\": [\"Python\", \"JavaScript\"],\n",
    "        \"city\": \"New York\",\n",
    "        \"is_active\": True,\n",
    "        \"score\": 95.5,\n",
    "        \"address\": {\n",
    "            \"street\": \"123 Main St\",\n",
    "            \"zip\": \"10001\"\n",
    "        }\n",
    "    },\n",
    "    {\n",
    "        \"name\": \"Bob\",\n",
    "        \"email\": \"bob@example.com\",\n",
    "        \"age\": 30,\n",
    "        \"skills\": [\"Python\", \"MongoDB\"],\n",
    "        \"city\": \"Boston\",\n",
    "        \"is_active\": False,\n",
    "        \"score\": 88.0,\n",
    "        \"address\": {\n",
    "            \"street\": \"456 Maple Ave\",\n",
    "            \"zip\": \"02118\"\n",
    "        }\n",
    "    },\n",
    "    {\n",
    "        \"name\": \"Charlie\",\n",
    "        \"email\": \"charlie@example.com\",\n",
    "        \"age\": 35,\n",
    "        \"skills\": [\"Python\", \"MongoDB\", \"Express\"],\n",
    "        \"city\": \"San Francisco\",\n",
    "        \"is_active\": True,\n",
    "        \"score\": 92.5,\n",
    "        \"address\": {\n",
    "            \"street\": \"789 Pine St\",\n",
    "            \"zip\": \"94101\"\n",
    "        }\n",
    "    },\n",
    "    {\n",
    "        \"name\": \"Dave\",\n",
    "        \"email\": \"dave@example.com\",\n",
    "        \"age\": 40,\n",
    "        \"skills\": [\"Python\", \"MongoDB\", \"Express\", \"Docker\"],\n",
    "        \"city\": \"Seattle\",\n",
    "        \"is_active\": False,\n",
    "        \"score\": 85.0,\n",
    "        \"address\": {\n",
    "            \"street\": \"101 Pine St\",\n",
    "            \"zip\": \"98101\"\n",
    "        }\n",
    "    }\n",
    "]\n",
    "for user in users:\n",
    "    db.users.insert_one(user)"
   ]
  },
  {
   "cell_type": "markdown",
   "id": "539fa3c7",
   "metadata": {},
   "source": [
    "**Q2.3** Now, set `active_high_scorers` to all user documents with `is_active = True` *and* `score` greater than `93`. \n",
    "\n",
    "Then, set `strong_hires` to all user documents located in San Francisco or have Docker listed in their skills.\n",
    "\n",
    "Next, set `zip_code_users` to all user document located in one of the following zip codes: 98101, 94101. \n",
    "\n",
    "Finally, set `middle_aged_users` to all user documents with age between 26 and 39. "
   ]
  },
  {
   "cell_type": "code",
   "execution_count": null,
   "id": "e8ffdb91",
   "metadata": {},
   "outputs": [],
   "source": [
    "if db.users.count_documents({}) != 4:\n",
    "    print(\"Please run the above cell first!\")\n",
    "\n",
    "active_high_scorers = ...\n",
    "strong_hires = ...\n",
    "zip_code_users = ...\n",
    "middle_aged_users = ...\n",
    "\n",
    "if active_high_scorers and len(list(active_high_scorers)) == 1 and \\\n",
    "   strong_hires and len(list(strong_hires)) == 2 and \\\n",
    "   zip_code_users and len(list(zip_code_users)) == 2 and \\\n",
    "   middle_aged_users and len(list(middle_aged_users)) == 2:\n",
    "    print(\"Passed!\")\n",
    "else:\n",
    "    print(\"Failed!\")\n"
   ]
  },
  {
   "cell_type": "markdown",
   "id": "58d2f8cc",
   "metadata": {},
   "source": [
    "## Update\n"
   ]
  },
  {
   "cell_type": "markdown",
   "id": "4e47bbce",
   "metadata": {},
   "source": [
    "**Q3.1** It's Alice's birthday! Update her user document so it reflects her new age (26). "
   ]
  },
  {
   "cell_type": "code",
   "execution_count": null,
   "id": "209964dc",
   "metadata": {},
   "outputs": [],
   "source": [
    "result = ...\n",
    "\n",
    "alice = db.users.find_one({\"name\": \"Alice\"})\n",
    "if alice and alice['age'] == 26 and result.modified_count == 1:\n",
    "    print(\"Passed!\")\n",
    "else:\n",
    "    print(\"Failed!\")\n"
   ]
  },
  {
   "cell_type": "markdown",
   "id": "f15f5f94",
   "metadata": {},
   "source": [
    "**Q3.2** Modify **all** documents with `is_active = False` and `age` greater than 30 to be `is_active = True`. "
   ]
  },
  {
   "cell_type": "code",
   "execution_count": null,
   "id": "b3fb547c",
   "metadata": {},
   "outputs": [],
   "source": [
    "result = ...\n",
    "\n",
    "if len(list(db.users.find({\"is_active\": True}))) == 3:\n",
    "    print(\"Passed!\")\n",
    "else:\n",
    "    print(\"Failed!\")\n"
   ]
  },
  {
   "cell_type": "markdown",
   "id": "5adca081",
   "metadata": {},
   "source": [
    "**Q3.3** Alice learned a new skill and now knows how to use TypeScript! Add her new skill to her user document. \n",
    "\n",
    "*Hint*: The [MongoDB Docs on Update Operators](https://www.mongodb.com/docs/manual/reference/mql/update/) might be helpful!"
   ]
  },
  {
   "cell_type": "code",
   "execution_count": null,
   "id": "93e56802",
   "metadata": {},
   "outputs": [],
   "source": [
    "result = ...\n",
    "\n",
    "alice = db.users.find_one({\"name\": \"Alice\"})\n",
    "if alice and \"TypeScript\" in alice['skills'] and result.modified_count == 1:\n",
    "    print(\"Passed!\")\n",
    "else:\n",
    "    print(\"Failed!\")\n"
   ]
  },
  {
   "cell_type": "markdown",
   "id": "26f20fc3",
   "metadata": {},
   "source": [
    "## Delete\n",
    "\n",
    "**Q4.1** Alice has requested to have her user data removed from our database :(. Delete the \"Alice\" user document from our users collection. "
   ]
  },
  {
   "cell_type": "code",
   "execution_count": null,
   "id": "be702740",
   "metadata": {},
   "outputs": [],
   "source": [
    "# Reset the database (don't delete this line!)\n",
    "db.users.drop()\n",
    "db.users.insert_many(users)\n",
    "\n",
    "result = ...\n",
    "\n",
    "if result.deleted_count == 1 and db.users.count_documents({\"name\": \"Alice\"}) == 0:\n",
    "    print(\"Passed!\")\n",
    "else:\n",
    "    print(\"Failed!\")\n"
   ]
  },
  {
   "cell_type": "markdown",
   "id": "08b2051b",
   "metadata": {},
   "source": [
    "**Q4.2** Our CEO has requested that all users skilled in Express should be removed from our database. \n",
    "\n",
    "*Hint*: Alice's user document has been restored from the previous question. "
   ]
  },
  {
   "cell_type": "code",
   "execution_count": null,
   "id": "758f812c",
   "metadata": {},
   "outputs": [],
   "source": [
    "# Reset the database (don't delete this line!)\n",
    "db.users.drop()\n",
    "db.users.insert_many(users)\n",
    "\n",
    "result = ...\n",
    "\n",
    "if result.deleted_count == 2 and db.users.find({}).sort(\"age\", -1).limit(1)[0][\"age\"] == 30:\n",
    "    print(\"Passed!\")\n",
    "else:\n",
    "    print(\"Failed!\")\n"
   ]
  }
 ],
 "metadata": {
  "kernelspec": {
   "display_name": "berkeleytime",
   "language": "python",
   "name": "python3"
  },
  "language_info": {
   "codemirror_mode": {
    "name": "ipython",
    "version": 3
   },
   "file_extension": ".py",
   "mimetype": "text/x-python",
   "name": "python",
   "nbconvert_exporter": "python",
   "pygments_lexer": "ipython3",
   "version": "3.11.11"
  }
 },
 "nbformat": 4,
 "nbformat_minor": 5
}
